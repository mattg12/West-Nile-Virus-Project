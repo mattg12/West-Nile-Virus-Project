{
 "cells": [
  {
   "cell_type": "markdown",
   "metadata": {},
   "source": [
    "# Scrap Code"
   ]
  },
  {
   "cell_type": "code",
   "execution_count": 1,
   "metadata": {},
   "outputs": [],
   "source": [
    "#data['CodeSum'] = data[['CodeSum_s1', 'CodeSum_s2']].apply(lambda x: ''.join(x), axis=1)\n",
    "\n",
    "#codes = [c.split() for c in data['CodeSum_s1'].unique()]\n",
    "#codesums = [item for itemlist in codes for item in itemlist]\n",
    "\n",
    "#list(set(codesums))\n",
    "\n",
    "#for code in codesums:\n",
    "#    data[code] = np.where(data['CodeSum'].str.contains(code), 1, 0)\n",
    "    \n",
    "#data.head()"
   ]
  },
  {
   "cell_type": "code",
   "execution_count": null,
   "metadata": {},
   "outputs": [],
   "source": [
    "\n",
    "    # create dummy variables for WNV-carrying species\n",
    "    data['pipiens'] = np.where(data['Species'].str.contains('PIPIENS'), 1, 0)\n",
    "    data['restuans'] = np.where(data['Species'].str.contains('RESTUANS'), 1, 0)"
   ]
  }
 ],
 "metadata": {
  "kernelspec": {
   "display_name": "Python [conda env:dsi]",
   "language": "python",
   "name": "conda-env-dsi-py"
  },
  "language_info": {
   "codemirror_mode": {
    "name": "ipython",
    "version": 3
   },
   "file_extension": ".py",
   "mimetype": "text/x-python",
   "name": "python",
   "nbconvert_exporter": "python",
   "pygments_lexer": "ipython3",
   "version": "3.6.5"
  }
 },
 "nbformat": 4,
 "nbformat_minor": 2
}
